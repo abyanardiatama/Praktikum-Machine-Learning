{
  "nbformat": 4,
  "nbformat_minor": 0,
  "metadata": {
    "colab": {
      "provenance": []
    },
    "kernelspec": {
      "name": "python3",
      "display_name": "Python 3"
    },
    "language_info": {
      "name": "python"
    }
  },
  "cells": [
    {
      "cell_type": "markdown",
      "source": [
        "#Abyan Ardiatama\n",
        "#24060120140161\n",
        "#Praktikum ke-2 Machine Learning"
      ],
      "metadata": {
        "id": "llgrf6FBS4lt"
      }
    },
    {
      "cell_type": "markdown",
      "source": [
        "###Memuat dataset ke dalam google colab menggunakan pandas dengan memasukkan url dan nam atributnya"
      ],
      "metadata": {
        "id": "npx8Hwh4TA7z"
      }
    },
    {
      "cell_type": "code",
      "execution_count": 58,
      "metadata": {
        "id": "wMpxhTJ-_Nkc"
      },
      "outputs": [],
      "source": [
        "import pandas\n",
        "#Memuat Dataset\n",
        "url = \"https://archive.ics.uci.edu/ml/machine-learning-databases/blood-transfusion/transfusion.data\"\n",
        "#names = ['mpg','cylinders','displacement','horsepower','weight']\n",
        "dataset = pandas.read_csv(url)"
      ]
    },
    {
      "cell_type": "code",
      "source": [
        "print(dataset)"
      ],
      "metadata": {
        "colab": {
          "base_uri": "https://localhost:8080/"
        },
        "id": "rGc_zQ5R_ooW",
        "outputId": "eb38fb10-805a-4b0e-9d3f-b1c226f878aa"
      },
      "execution_count": 59,
      "outputs": [
        {
          "output_type": "stream",
          "name": "stdout",
          "text": [
            "     Recency (months)  Frequency (times)  Monetary (c.c. blood)  \\\n",
            "0                   2                 50                  12500   \n",
            "1                   0                 13                   3250   \n",
            "2                   1                 16                   4000   \n",
            "3                   2                 20                   5000   \n",
            "4                   1                 24                   6000   \n",
            "..                ...                ...                    ...   \n",
            "743                23                  2                    500   \n",
            "744                21                  2                    500   \n",
            "745                23                  3                    750   \n",
            "746                39                  1                    250   \n",
            "747                72                  1                    250   \n",
            "\n",
            "     Time (months)  whether he/she donated blood in March 2007  \n",
            "0               98                                           1  \n",
            "1               28                                           1  \n",
            "2               35                                           1  \n",
            "3               45                                           1  \n",
            "4               77                                           0  \n",
            "..             ...                                         ...  \n",
            "743             38                                           0  \n",
            "744             52                                           0  \n",
            "745             62                                           0  \n",
            "746             39                                           0  \n",
            "747             72                                           0  \n",
            "\n",
            "[748 rows x 5 columns]\n"
          ]
        }
      ]
    },
    {
      "cell_type": "markdown",
      "source": [
        "###Membagi dataset menjadi 80% data training dan 20% data validasi"
      ],
      "metadata": {
        "id": "3PWYFK9DTFlu"
      }
    },
    {
      "cell_type": "code",
      "source": [
        "from sklearn import*\n",
        "array = dataset.values\n",
        "X = array[:,0:4]\n",
        "Y = array[:,4]\n",
        "validation_size = 0.20\n",
        "seed = 7\n",
        "X_train, X_validation, Y_train, Y_validation = model_selection.train_test_split(X, Y, test_size=validation_size, random_state=seed)"
      ],
      "metadata": {
        "id": "ympbVcBRQB78"
      },
      "execution_count": 50,
      "outputs": []
    },
    {
      "cell_type": "code",
      "source": [
        "# Test options and evaluation metric\n",
        "seed = 7\n",
        "scoring = 'accuracy'"
      ],
      "metadata": {
        "id": "fDu5dV1hQGFK"
      },
      "execution_count": 51,
      "outputs": []
    },
    {
      "cell_type": "markdown",
      "source": [
        "###Memvalidasi dataset pada 5 algoritma (KNN,gaussian,svc, decision tree, dan NB)"
      ],
      "metadata": {
        "id": "kEmzFy10TWg4"
      }
    },
    {
      "cell_type": "code",
      "source": [
        "from sklearn.neighbors import KNeighborsClassifier\n",
        "from sklearn.naive_bayes import GaussianNB\n",
        "from sklearn.svm import SVC\n",
        "from sklearn.tree import DecisionTreeClassifier\n",
        "from sklearn.linear_model import LogisticRegression\n",
        "from sklearn import*\n",
        "# Spot Check Algorithms\n",
        "models = []\n",
        "models.append(('KNN', KNeighborsClassifier())) \n",
        "models.append(('NB', GaussianNB()))\n",
        "models.append(('SVM', SVC()))\n",
        "models.append(('CART', DecisionTreeClassifier()))\n",
        "models.append(('LR', LogisticRegression(solver='liblinear', multi_class='ovr')))\n",
        "# evaluate each model in turn\n",
        "results = []\n",
        "names = []\n",
        "\n",
        "for name, model in models: \n",
        "  kfold = model_selection.KFold(n_splits=5, shuffle=True, random_state=seed)\n",
        "  cv_results = model_selection.cross_val_score(model, X_train, Y_train, cv=kfold, scoring=scoring)\n",
        "  results.append(cv_results)\n",
        "  names.append(name)\n",
        "  error_score='raise'\n",
        "  msg = \"%s: %f (%f)\" % (name, cv_results.mean(), cv_results.std()) \n",
        "  print(msg)\n"
      ],
      "metadata": {
        "colab": {
          "base_uri": "https://localhost:8080/"
        },
        "id": "yBYyhVkmQIA2",
        "outputId": "8a19d3a6-9626-4b4c-ac2b-b62b5d1f8840"
      },
      "execution_count": 60,
      "outputs": [
        {
          "output_type": "stream",
          "name": "stdout",
          "text": [
            "KNN: 0.757521 (0.021764)\n",
            "NB: 0.769314 (0.049525)\n",
            "SVM: 0.762619 (0.028621)\n",
            "CART: 0.724090 (0.051401)\n",
            "LR: 0.777675 (0.037171)\n"
          ]
        }
      ]
    },
    {
      "cell_type": "markdown",
      "source": [
        "###Meguji keakuratan metode yang memiliki akurasi perkiraan tertinggi"
      ],
      "metadata": {
        "id": "4VGNhKzcTjRZ"
      }
    },
    {
      "cell_type": "code",
      "source": [
        "from sklearn.metrics import accuracy_score\n",
        "from sklearn.metrics import confusion_matrix\n",
        "from sklearn.metrics import classification_report\n",
        "# Make predictions on validation dataset\n",
        "LR = LogisticRegression(solver='liblinear', multi_class='ovr')\n",
        "LR.fit(X_train, Y_train)\n",
        "predictions = LR.predict(X_validation) \n",
        "print(accuracy_score(Y_validation, predictions))\n",
        "print(confusion_matrix(Y_validation, predictions)) \n",
        "print(classification_report(Y_validation, predictions))"
      ],
      "metadata": {
        "colab": {
          "base_uri": "https://localhost:8080/"
        },
        "id": "B9H0cnU3R9vQ",
        "outputId": "b4e753f1-cc70-471f-b6c6-2366aa3058f8"
      },
      "execution_count": 63,
      "outputs": [
        {
          "output_type": "stream",
          "name": "stdout",
          "text": [
            "0.7533333333333333\n",
            "[[107   5]\n",
            " [ 32   6]]\n",
            "              precision    recall  f1-score   support\n",
            "\n",
            "           0       0.77      0.96      0.85       112\n",
            "           1       0.55      0.16      0.24        38\n",
            "\n",
            "    accuracy                           0.75       150\n",
            "   macro avg       0.66      0.56      0.55       150\n",
            "weighted avg       0.71      0.75      0.70       150\n",
            "\n"
          ]
        }
      ]
    }
  ]
}