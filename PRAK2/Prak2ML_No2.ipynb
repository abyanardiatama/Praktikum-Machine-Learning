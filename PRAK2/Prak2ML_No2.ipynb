{
  "nbformat": 4,
  "nbformat_minor": 0,
  "metadata": {
    "colab": {
      "provenance": []
    },
    "kernelspec": {
      "name": "python3",
      "display_name": "Python 3"
    },
    "language_info": {
      "name": "python"
    }
  },
  "cells": [
    {
      "cell_type": "markdown",
      "source": [
        "#Abyan Ardiatama\n",
        "#24060120140161\n",
        "#Praktikum ke-2 Machine Learning"
      ],
      "metadata": {
        "id": "llgrf6FBS4lt"
      }
    },
    {
      "cell_type": "markdown",
      "source": [
        "##**Soal 2**\n",
        "###Mencari dataset baru dan evaluasi menggunakan 3 algoritma yang ada di modul"
      ],
      "metadata": {
        "id": "mrk34CoSR2Bw"
      }
    },
    {
      "cell_type": "markdown",
      "source": [
        "###Memuat dataset ke dalam google colab menggunakan pandas dengan memasukkan url dan nama atributnya"
      ],
      "metadata": {
        "id": "npx8Hwh4TA7z"
      }
    },
    {
      "cell_type": "code",
      "execution_count": 1,
      "metadata": {
        "id": "wMpxhTJ-_Nkc"
      },
      "outputs": [],
      "source": [
        "import pandas\n",
        "#Memuat Dataset\n",
        "url = \"https://archive.ics.uci.edu/ml/machine-learning-databases/blood-transfusion/transfusion.data\"\n",
        "#names = ['mpg','cylinders','displacement','horsepower','weight']\n",
        "dataset = pandas.read_csv(url)"
      ]
    },
    {
      "cell_type": "code",
      "source": [
        "print(dataset.head(5))"
      ],
      "metadata": {
        "colab": {
          "base_uri": "https://localhost:8080/"
        },
        "id": "rGc_zQ5R_ooW",
        "outputId": "a19449e6-cc8d-478a-ba8a-f1a6a9a46b6e"
      },
      "execution_count": 2,
      "outputs": [
        {
          "output_type": "stream",
          "name": "stdout",
          "text": [
            "   Recency (months)  Frequency (times)  Monetary (c.c. blood)  Time (months)  \\\n",
            "0                 2                 50                  12500             98   \n",
            "1                 0                 13                   3250             28   \n",
            "2                 1                 16                   4000             35   \n",
            "3                 2                 20                   5000             45   \n",
            "4                 1                 24                   6000             77   \n",
            "\n",
            "   whether he/she donated blood in March 2007  \n",
            "0                                           1  \n",
            "1                                           1  \n",
            "2                                           1  \n",
            "3                                           1  \n",
            "4                                           0  \n"
          ]
        }
      ]
    },
    {
      "cell_type": "markdown",
      "source": [
        "###Membagi dataset menjadi 80% data training dan 20% data validasi"
      ],
      "metadata": {
        "id": "3PWYFK9DTFlu"
      }
    },
    {
      "cell_type": "code",
      "source": [
        "from sklearn import*\n",
        "array = dataset.values\n",
        "X = array[:,0:4]\n",
        "Y = array[:,4]\n",
        "validation_size = 0.20\n",
        "seed = 7\n",
        "X_train, X_validation, Y_train, Y_validation = model_selection.train_test_split(X, Y, test_size=validation_size, random_state=seed)"
      ],
      "metadata": {
        "id": "ympbVcBRQB78"
      },
      "execution_count": 5,
      "outputs": []
    },
    {
      "cell_type": "code",
      "source": [
        "# Test options and evaluation metric\n",
        "seed = 7\n",
        "scoring = 'accuracy'"
      ],
      "metadata": {
        "id": "fDu5dV1hQGFK"
      },
      "execution_count": 6,
      "outputs": []
    },
    {
      "cell_type": "markdown",
      "source": [
        "###Memvalidasi dataset pada 5 algoritma (KNN,GaussianNB,dan SVM)"
      ],
      "metadata": {
        "id": "kEmzFy10TWg4"
      }
    },
    {
      "cell_type": "code",
      "source": [
        "from sklearn.neighbors import KNeighborsClassifier\n",
        "from sklearn.naive_bayes import GaussianNB\n",
        "from sklearn.svm import SVC\n",
        "from sklearn import*\n",
        "# Spot Check Algorithms\n",
        "models = []\n",
        "models.append(('KNN', KNeighborsClassifier())) \n",
        "models.append(('NB', GaussianNB()))\n",
        "models.append(('SVM', SVC()))\n",
        "\n",
        "# evaluate each model in turn\n",
        "results = []\n",
        "names = []\n",
        "\n",
        "for name, model in models: \n",
        "  kfold = model_selection.KFold(n_splits=5, shuffle=True, random_state=seed)\n",
        "  cv_results = model_selection.cross_val_score(model, X_train, Y_train, cv=kfold, scoring=scoring)\n",
        "  results.append(cv_results)\n",
        "  names.append(name)\n",
        "  error_score='raise'\n",
        "  msg = \"%s: %f (%f)\" % (name, cv_results.mean(), cv_results.std()) \n",
        "  print(msg)\n"
      ],
      "metadata": {
        "colab": {
          "base_uri": "https://localhost:8080/"
        },
        "id": "yBYyhVkmQIA2",
        "outputId": "d2b6ff57-d6b0-4c8d-867c-fd8da14f36c7"
      },
      "execution_count": 8,
      "outputs": [
        {
          "output_type": "stream",
          "name": "stdout",
          "text": [
            "KNN: 0.757521 (0.021764)\n",
            "NB: 0.769314 (0.049525)\n",
            "SVM: 0.762619 (0.028621)\n"
          ]
        }
      ]
    },
    {
      "cell_type": "markdown",
      "source": [
        "###Meguji keakuratan metode yang memiliki akurasi perkiraan tertinggi --> **GaussianNB**"
      ],
      "metadata": {
        "id": "4VGNhKzcTjRZ"
      }
    },
    {
      "cell_type": "code",
      "source": [
        "from sklearn.metrics import accuracy_score\n",
        "from sklearn.metrics import confusion_matrix\n",
        "from sklearn.metrics import classification_report\n",
        "# Make predictions on validation dataset\n",
        "NB = GaussianNB()\n",
        "NB.fit(X_train, Y_train)\n",
        "predictions = NB.predict(X_validation) \n",
        "print(accuracy_score(Y_validation, predictions))\n",
        "print(confusion_matrix(Y_validation, predictions)) \n",
        "print(classification_report(Y_validation, predictions))"
      ],
      "metadata": {
        "colab": {
          "base_uri": "https://localhost:8080/"
        },
        "id": "B9H0cnU3R9vQ",
        "outputId": "0a6029c0-0095-4abd-8c9f-e8bb8aa77d32"
      },
      "execution_count": 10,
      "outputs": [
        {
          "output_type": "stream",
          "name": "stdout",
          "text": [
            "0.7066666666666667\n",
            "[[98 14]\n",
            " [30  8]]\n",
            "              precision    recall  f1-score   support\n",
            "\n",
            "           0       0.77      0.88      0.82       112\n",
            "           1       0.36      0.21      0.27        38\n",
            "\n",
            "    accuracy                           0.71       150\n",
            "   macro avg       0.56      0.54      0.54       150\n",
            "weighted avg       0.66      0.71      0.68       150\n",
            "\n"
          ]
        }
      ]
    }
  ]
}