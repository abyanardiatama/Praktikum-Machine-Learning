{
  "nbformat": 4,
  "nbformat_minor": 0,
  "metadata": {
    "colab": {
      "provenance": []
    },
    "kernelspec": {
      "name": "python3",
      "display_name": "Python 3"
    },
    "language_info": {
      "name": "python"
    }
  },
  "cells": [
    {
      "cell_type": "markdown",
      "source": [
        "#Abyan Ardiatama\n",
        "#24060120140161\n",
        "#Praktikum ke-2 Machine Learning"
      ],
      "metadata": {
        "id": "faq-x4RH-l2u"
      }
    },
    {
      "cell_type": "markdown",
      "source": [
        "##**Soal 1** \n",
        "###Evaluasi Algoritma menggunakan dataset Iris dengan 3 algoritma yang berbeda dengan modul"
      ],
      "metadata": {
        "id": "zd8pHghPRJpy"
      }
    },
    {
      "cell_type": "markdown",
      "source": [
        "###Memuat dataset ke dalam google colab menggunakan pandas dengan memasukkan url dan nama atributnya"
      ],
      "metadata": {
        "id": "l64bmpi8-yvM"
      }
    },
    {
      "cell_type": "code",
      "execution_count": 1,
      "metadata": {
        "id": "FfB0j4KL_Nza"
      },
      "outputs": [],
      "source": [
        "import pandas\n",
        "#Memuat Dataset\n",
        "url = \"https://archive.ics.uci.edu/ml/machine-learning-databases/iris/iris.data\"\n",
        "names = ['sepal-length', 'sepal-width', 'petal-length', 'petal-width', 'class']\n",
        "dataset = pandas.read_csv(url, names=names)"
      ]
    },
    {
      "cell_type": "code",
      "source": [
        "print(dataset)"
      ],
      "metadata": {
        "id": "zf6WUKb2L-rf",
        "outputId": "493f2372-ac66-474d-cd04-3fa599fc0d06",
        "colab": {
          "base_uri": "https://localhost:8080/"
        }
      },
      "execution_count": 2,
      "outputs": [
        {
          "output_type": "stream",
          "name": "stdout",
          "text": [
            "     sepal-length  sepal-width  petal-length  petal-width           class\n",
            "0             5.1          3.5           1.4          0.2     Iris-setosa\n",
            "1             4.9          3.0           1.4          0.2     Iris-setosa\n",
            "2             4.7          3.2           1.3          0.2     Iris-setosa\n",
            "3             4.6          3.1           1.5          0.2     Iris-setosa\n",
            "4             5.0          3.6           1.4          0.2     Iris-setosa\n",
            "..            ...          ...           ...          ...             ...\n",
            "145           6.7          3.0           5.2          2.3  Iris-virginica\n",
            "146           6.3          2.5           5.0          1.9  Iris-virginica\n",
            "147           6.5          3.0           5.2          2.0  Iris-virginica\n",
            "148           6.2          3.4           5.4          2.3  Iris-virginica\n",
            "149           5.9          3.0           5.1          1.8  Iris-virginica\n",
            "\n",
            "[150 rows x 5 columns]\n"
          ]
        }
      ]
    },
    {
      "cell_type": "markdown",
      "source": [
        "###Membagi dataset menjadi 80% data training dan 20% data validasi"
      ],
      "metadata": {
        "id": "WQ0bEyFf-4EI"
      }
    },
    {
      "cell_type": "code",
      "source": [
        "from sklearn import*\n",
        "array = dataset.values\n",
        "X = array[:,0:4]\n",
        "Y = array[:,4]\n",
        "validation_size = 0.20\n",
        "seed = 7\n",
        "X_train, X_validation, Y_train, Y_validation = model_selection.train_test_split(X, Y, test_size=validation_size, random_state=seed)"
      ],
      "metadata": {
        "id": "HXD7DY8D_iDL"
      },
      "execution_count": 3,
      "outputs": []
    },
    {
      "cell_type": "markdown",
      "source": [
        "###Memvalidasi dataset pada 3 algoritma (Decision Tree,Stochastic Gradient Descent,dan Gaussian Process)"
      ],
      "metadata": {
        "id": "qjqFwzA7_FZk"
      }
    },
    {
      "cell_type": "code",
      "source": [
        "# Test options and evaluation metric\n",
        "seed = 7\n",
        "scoring = 'accuracy'"
      ],
      "metadata": {
        "id": "OtMmmTY3AgM_"
      },
      "execution_count": 4,
      "outputs": []
    },
    {
      "cell_type": "code",
      "source": [
        "from sklearn.tree import DecisionTreeClassifier\n",
        "from sklearn.linear_model import SGDClassifier\n",
        "from sklearn.gaussian_process import GaussianProcessClassifier\n",
        "from sklearn import*\n",
        "# Spot Check Algorithms\n",
        "models = []\n",
        "models.append(('Decision Tree',DecisionTreeClassifier())) \n",
        "models.append(('Stochastic Gradient Descent',SGDClassifier())) \n",
        "models.append(('Gaussian Process',GaussianProcessClassifier()))\n",
        "# evaluate each model in turn\n",
        "results = []\n",
        "names = []\n",
        "\n",
        "for name, model in models: \n",
        "  kfold = model_selection.KFold(n_splits=10, shuffle=True, random_state=seed)\n",
        "  cv_results = model_selection.cross_val_score(model, X_train, Y_train, cv=kfold, scoring=scoring)\n",
        "  results.append(cv_results)\n",
        "  names.append(name)\n",
        "  msg = \"%s: %f (%f)\" % (name, cv_results.mean(), cv_results.std()) \n",
        "  print(msg)\n"
      ],
      "metadata": {
        "colab": {
          "base_uri": "https://localhost:8080/"
        },
        "id": "RchaWxawAk-v",
        "outputId": "e7d7c506-110c-4bc0-eb62-a9152e1fc36c"
      },
      "execution_count": 6,
      "outputs": [
        {
          "output_type": "stream",
          "name": "stdout",
          "text": [
            "Decision Tree: 0.958333 (0.076830)\n",
            "Stochastic Gradient Descent: 0.800000 (0.197906)\n",
            "Gaussian Process: 0.983333 (0.033333)\n"
          ]
        }
      ]
    },
    {
      "cell_type": "markdown",
      "source": [
        "###Meguji keakuratan metode yang memiliki akurasi perkiraan tertinggi --> **Gaussian Process**"
      ],
      "metadata": {
        "id": "J5dUiPOk_SWO"
      }
    },
    {
      "cell_type": "code",
      "source": [
        "from sklearn.metrics import accuracy_score\n",
        "from sklearn.metrics import confusion_matrix\n",
        "from sklearn.metrics import classification_report\n",
        "# Make predictions on validation dataset\n",
        "GaussianProcess=GaussianProcessClassifier()\n",
        "GaussianProcess.fit(X_train, Y_train)\n",
        "predictions = GaussianProcess.predict(X_validation) \n",
        "print(accuracy_score(Y_validation, predictions))\n",
        "print(confusion_matrix(Y_validation, predictions)) \n",
        "print(classification_report(Y_validation, predictions))"
      ],
      "metadata": {
        "colab": {
          "base_uri": "https://localhost:8080/"
        },
        "id": "GXe-1p11Bomp",
        "outputId": "fff6ef13-caa4-4f98-90d1-b18a5e8ec048"
      },
      "execution_count": 9,
      "outputs": [
        {
          "output_type": "stream",
          "name": "stdout",
          "text": [
            "0.8666666666666667\n",
            "[[ 7  0  0]\n",
            " [ 0 10  2]\n",
            " [ 0  2  9]]\n",
            "                 precision    recall  f1-score   support\n",
            "\n",
            "    Iris-setosa       1.00      1.00      1.00         7\n",
            "Iris-versicolor       0.83      0.83      0.83        12\n",
            " Iris-virginica       0.82      0.82      0.82        11\n",
            "\n",
            "       accuracy                           0.87        30\n",
            "      macro avg       0.88      0.88      0.88        30\n",
            "   weighted avg       0.87      0.87      0.87        30\n",
            "\n"
          ]
        }
      ]
    }
  ]
}